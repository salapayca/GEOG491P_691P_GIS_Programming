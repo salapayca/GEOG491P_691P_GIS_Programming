{
 "cells": [
  {
   "cell_type": "code",
   "execution_count": null,
   "metadata": {},
   "outputs": [],
   "source": [
    "# while loop\n",
    "x = 0\n",
    "while x < 5:\n",
    "    print (\"python\")\n",
    "    x +=1"
   ]
  },
  {
   "cell_type": "code",
   "execution_count": null,
   "metadata": {},
   "outputs": [],
   "source": [
    "# counted loop\n",
    "n = range(10)\n",
    "for i in n:\n",
    "    print (i, \"python\")"
   ]
  },
  {
   "cell_type": "code",
   "execution_count": null,
   "metadata": {},
   "outputs": [],
   "source": [
    "# list loop\n",
    "l = [2,4,6]\n",
    "for i in l:\n",
    "    print (i, \"times Python\")"
   ]
  },
  {
   "cell_type": "code",
   "execution_count": null,
   "metadata": {},
   "outputs": [],
   "source": [
    "# breaking out of loops\n",
    "# find the maximum number below 1000 that divides by 12\n",
    "for n in range(1000, 0, -1):\n",
    "    div = n % 12\n",
    "    if div == 0:\n",
    "        print (n)\n",
    "        break"
   ]
  },
  {
   "cell_type": "markdown",
   "metadata": {},
   "source": [
    "Q1)Why use break above?"
   ]
  },
  {
   "cell_type": "code",
   "execution_count": null,
   "metadata": {},
   "outputs": [],
   "source": [
    "# break if input is \"false\"\n",
    "while True:\n",
    "    number = int(input(\"Non-zero Number: \"))\n",
    "    number = float(number)\n",
    "    if not number: break\n",
    "        print (\"Your number\", number)"
   ]
  },
  {
   "cell_type": "code",
   "execution_count": null,
   "metadata": {},
   "outputs": [],
   "source": [
    "\t\n",
    "Non-zero Number: 1\n",
    "Your number 1.0\n",
    "Non-zero Number: 5\n",
    "Your number 5.0\n",
    "Non-zero Number: -1\n",
    "Your number -1.0\n",
    "Non-zero Number: 0\n",
    "-----------------------------------------------------------\n",
    ">>> # breaking if succeded\n",
    ">>> for n in range(10):\n",
    "\tif n >= 10:\n",
    "\t\tprint \"OK\"\n",
    "\t\tbreak\n",
    "else:\n",
    "\tprint \"in range\"\n",
    "\n",
    "\t\n",
    "in range\n",
    ">>> for n in range(10):\n",
    "\tif n < 10:\n",
    "\t\tprint \"OK\"\n",
    "\t\tbreak\n",
    "else:\n",
    "\tprint \"out of range\"\n",
    "\n",
    "OK\n",
    ">>> # no \"break\" would give:\n",
    ">>> for n in range(10):\n",
    "\tif n < 10:\n",
    "\t\tprint \"OK\"\n",
    "\n",
    "\t\t\n",
    "OK\n",
    "OK\n",
    "OK\n",
    "OK\n",
    "OK\n",
    "OK\n",
    "OK\n",
    "OK\n",
    "OK\n",
    "OK\n",
    ">>> \n",
    "-----------------------------------------------------------"
   ]
  }
 ],
 "metadata": {
  "kernelspec": {
   "display_name": "Python 3",
   "language": "python",
   "name": "python3"
  },
  "language_info": {
   "codemirror_mode": {
    "name": "ipython",
    "version": 3
   },
   "file_extension": ".py",
   "mimetype": "text/x-python",
   "name": "python",
   "nbconvert_exporter": "python",
   "pygments_lexer": "ipython3",
   "version": "3.6.10"
  }
 },
 "nbformat": 4,
 "nbformat_minor": 2
}
