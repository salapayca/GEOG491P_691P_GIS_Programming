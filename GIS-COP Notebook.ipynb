{
 "cells": [
  {
   "cell_type": "markdown",
   "metadata": {
    "rise": {
     "autolaunch": true
    },
    "slideshow": {
     "slide_type": "slide"
    }
   },
   "source": [
    "<center><h1>GIS-COP Notebook Playtime</h1></center>"
   ]
  },
  {
   "cell_type": "markdown",
   "metadata": {
    "slideshow": {
     "slide_type": "subslide"
    }
   },
   "source": [
    "## Cell Types"
   ]
  },
  {
   "cell_type": "markdown",
   "metadata": {
    "slideshow": {
     "slide_type": "fragment"
    }
   },
   "source": [
    "__Markdown cells__ : Enables us to write some information, guide, include some pictures, flowcharts, or whatever we want to in order to define the code cells. You can either select from the drop-down menu, or use the keyboard shortcut as M."
   ]
  },
  {
   "cell_type": "markdown",
   "metadata": {
    "slideshow": {
     "slide_type": "fragment"
    }
   },
   "source": [
    "## This is a Markdown Cell"
   ]
  },
  {
   "cell_type": "markdown",
   "metadata": {
    "slideshow": {
     "slide_type": "subslide"
    }
   },
   "source": [
    "__Code cell__: Where you can perform your python tricks and run. The output will appear as soon as you run your code cell underneat.You can run code cells by using shift+Enter shortcut. Or you can use the run button above."
   ]
  },
  {
   "cell_type": "code",
   "execution_count": 1,
   "metadata": {
    "scrolled": true,
    "slideshow": {
     "slide_type": "fragment"
    }
   },
   "outputs": [
    {
     "name": "stdout",
     "output_type": "stream",
     "text": [
      "This is a code cell\n"
     ]
    }
   ],
   "source": [
    "print(\"This is a code cell\")"
   ]
  },
  {
   "cell_type": "markdown",
   "metadata": {
    "slideshow": {
     "slide_type": "subslide"
    }
   },
   "source": [
    "## Markdown hints:\n",
    "- __Making bold__\n",
    "- _Making italic_ or *Making italic*\n",
    "- Adding image <center><img src=\"https://static1.squarespace.com/static/5c62c09c4d546e27dc1016c7/5c71f65a9140b72b900c47e2/5c846bca24a694a6a027ee65/1552182810224/BTTF+In+Concert.jpg?format=500w\" width=300 height=300/></center>\n",
    "- Adding link [Label](hyperlink)\n",
    "- Insert a cell above/below A/B in command mode"
   ]
  },
  {
   "cell_type": "markdown",
   "metadata": {
    "slideshow": {
     "slide_type": "slide"
    }
   },
   "source": [
    "## Notebooks Slides : RISE"
   ]
  },
  {
   "cell_type": "markdown",
   "metadata": {
    "slideshow": {
     "slide_type": "subslide"
    }
   },
   "source": [
    "To install RISE :\n",
    "conda install -c conda-forge rise"
   ]
  },
  {
   "cell_type": "markdown",
   "metadata": {
    "slideshow": {
     "slide_type": "fragment"
    }
   },
   "source": [
    "In order to auto launch your slides, you have to include this to your notebook:\n",
    "\n",
    "{\n",
    "  \"rise\": {\n",
    "    \"autolaunch\": true\n",
    "  },\n",
    "  \"slideshow\": {\n",
    "    \"slide_type\": \"slide\"\n",
    "  }\n",
    "}"
   ]
  },
  {
   "cell_type": "markdown",
   "metadata": {
    "slideshow": {
     "slide_type": "subslide"
    }
   },
   "source": [
    "Where to save your notebooks? \n",
    "- GITHUB"
   ]
  },
  {
   "cell_type": "markdown",
   "metadata": {
    "slideshow": {
     "slide_type": "fragment"
    }
   },
   "source": [
    "How to share your notebooks? \n",
    "- MyBinder https://mybinder.org/v2/gh/salapayca/GEOG491P_691P_GIS_Programming/master"
   ]
  },
  {
   "cell_type": "markdown",
   "metadata": {},
   "source": [
    "Where to launch your Jupyter if you already have ArcGIS Pro?\n",
    "- cmd jupyter notebook.exe"
   ]
  },
  {
   "cell_type": "markdown",
   "metadata": {
    "slideshow": {
     "slide_type": "subslide"
    }
   },
   "source": [
    "- Notebook [Cheet Sheets](cheatography.com/26788/cs/7602)\n",
    "- [Markdown for Jupyter notebooks cheatsheet](https://medium.com/ibm-data-science-experience/markdown-for-jupyter-notebooks-cheatsheet-386c05aeebed)\n",
    "- [More on headings, ephasis, and what not.](https://medium.com/ibm-data-science-experience/markdown-for-jupyter-notebooks-cheatsheet-386c05aeebed)"
   ]
  },
  {
   "cell_type": "markdown",
   "metadata": {
    "slideshow": {
     "slide_type": "fragment"
    }
   },
   "source": [
    "Further readings:\n",
    "- Jupyter Notebook Best Practices by Dominik Haitz [link](https://towardsdatascience.com/jupyter-notebook-best-practices-f430a6ba8c69)\n",
    "        "
   ]
  }
 ],
 "metadata": {
  "celltoolbar": "Slideshow",
  "kernelspec": {
   "display_name": "Python 3",
   "language": "python",
   "name": "python3"
  },
  "language_info": {
   "codemirror_mode": {
    "name": "ipython",
    "version": 3
   },
   "file_extension": ".py",
   "mimetype": "text/x-python",
   "name": "python",
   "nbconvert_exporter": "python",
   "pygments_lexer": "ipython3",
   "version": "3.6.10"
  }
 },
 "nbformat": 4,
 "nbformat_minor": 4
}
